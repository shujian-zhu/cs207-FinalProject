{
 "cells": [
  {
   "cell_type": "markdown",
   "metadata": {},
   "source": [
    "# 1. Introduction\n",
    "Evaluation of derivatives is integral to many machine learning methods. For this purpose, two main methods could be used: symbolical and numerical differentiation. Symbolical differentiation, though straightforward, its implementation requires complex expression manipulation in computer algebra systems, making it very costly to evaluate; the method is also limited to closed-form input expressions. On the other hand, numerical differentiation computes the function derivative by approximating it using small values of step size h; though numerical simpler and faster than symbolic diffferentiation, it suffers from stability issues and round-off or truncation errors.\n",
    "\n",
    "To address the weaknesses of both these methods, automatic differentiation (AD) was introduced. Since, it has been applied in different areas, such as  engineering design optimization, structural mechanics, and atmospheric sciences; its application to machine learning methods popularised AD. Therefore, due to the important role AD plays in many scientific fields, we introduce a python package that provides user-friendly methods for performing forward-mode AD. Our package supports the evaluation of first derivatives of functions defined by user at given input value. "
   ]
  },
  {
   "cell_type": "markdown",
   "metadata": {},
   "source": [
    "# 2. Background\n",
    "All numerical computation can be seen as a combination of elementary operations for which the derivatives are known. The derivatives of the overall composition can be found by combining the derivatives of elementary operations through the chain rule. Such elementary functions include arithmetic operations (addition, subtraction, multiplication, division), sign switch, and functions such as exponential, logarithm, and the trigonometric (e.g. sin(x), cos(x)). Traces of these elementary operations can be represented by a trace table or a computational graph. Trace table are originally used to trace the value of variables as each line of code is executed. As an example of this flow, Table 1 shows the evaluation trace of elementary operations of the computation f(x<sub>1</sub>) = ln(x<sub>1</sub>) + 3 * x<sub>1</sub> and Figure 1 gives an example of a graphic representation of function f(x<sub>1</sub>) by its elementary operations. \n",
    "\n",
    "| Trace       | Elementary function | Current Function Value | Function Derivative |\n",
    "| ------------- |:-------------:|:-------------:|:-------------:|\n",
    "| X1      | X1            |  c             | 1  |\n",
    "| X2      | ln(X1)            | ln(c)      | 1/c |\n",
    "| X3      | 3 * X1            |  3c        | 3   |\n",
    "| X4      | X2 + X3             | ln(c) + 3c | 1/c + 3 |\n",
    "\n",
    "![alt text](sample_trace_graph.png \"Figure 1\")\n",
    "\n",
    "The forward mode of AD starts from the input value and compute the derivative of intermediate variables with respect to the input value. Applying the chain rule to each elementary operation in the forward primal trace, we generate the corresponding derivative trace, which gives us the derivative in the final variable. Forward  mode AD can also be viewed as evaluating a function using dual numbers, which are defined as a+b*&epsilon;, where a, b &#1013; R and &epsilon; is a nilpotent number such that &epsilon;^2 = 0 and &epsilon; &ne; 0. It can be shown that the coefficient of &epsilon; after evaluating a function is exactly the derivative of that function, which also works for chain rule."
   ]
  },
  {
   "cell_type": "markdown",
   "metadata": {},
   "source": [
    "# 3. Installation\n",
    "Th package uses a setup.py file for a simple installation, you need to to run the following command in the package main folder:\n",
    "\n",
    "<code>pip install .\n",
    "  "
   ]
  },
  {
   "cell_type": "markdown",
   "metadata": {},
   "source": [
    "# 4. How to Use AutoDiff \n",
    "In this section, we demo the the AutoDiff package and its capabilities:"
   ]
  },
  {
   "cell_type": "code",
   "execution_count": 1,
   "metadata": {},
   "outputs": [],
   "source": [
    "import AutoDiff as ad"
   ]
  },
  {
   "cell_type": "markdown",
   "metadata": {},
   "source": [
    "The AutoDiff package can be used in two different ways:"
   ]
  },
  {
   "cell_type": "markdown",
   "metadata": {},
   "source": [
    "### 4.1. Pass the function to AD():\n",
    "Passing a function, a variable label, and variable value to AD as follows, will give us the value, derivative and for such function:\n",
    "\n",
    "AD(function: str, variable_label:str, variable_value: float) "
   ]
  },
  {
   "cell_type": "code",
   "execution_count": 2,
   "metadata": {},
   "outputs": [
    {
     "name": "stdout",
     "output_type": "stream",
     "text": [
      " val:  11 \n",
      " der:  -1\n"
     ]
    }
   ],
   "source": [
    "## y = f(x)\n",
    "y = ad.AD('-x**3 + 2*x**2 + 3*x + 5', 'x', 2)\n",
    "print(\" val: \", y.val,\"\\n der: \", y.der)"
   ]
  },
  {
   "cell_type": "code",
   "execution_count": 3,
   "metadata": {},
   "outputs": [
    {
     "name": "stdout",
     "output_type": "stream",
     "text": [
      " val:  11 \n",
      " der:  -1\n"
     ]
    }
   ],
   "source": [
    "## z = f(w)\n",
    "z = ad.AD('-w**3 + 2*w**2 + 3*w + 5', 'w', 2)\n",
    "print(\" val: \", z.val,\"\\n der: \", z.der)"
   ]
  },
  {
   "cell_type": "markdown",
   "metadata": {},
   "source": [
    "### 4.2. Create an AD_Object():\n",
    "Alternatively, you can delcare an AD_Object(value) and use it as a variable; the AD object will store the value and derivative with each subsequent elementary operation.  "
   ]
  },
  {
   "cell_type": "code",
   "execution_count": 4,
   "metadata": {},
   "outputs": [
    {
     "name": "stdout",
     "output_type": "stream",
     "text": [
      " val:  11 \n",
      " der:  -1\n"
     ]
    }
   ],
   "source": [
    "x = ad.AD_Object(2)\n",
    "y = -x**3 + 2*x**2 + 3*x + 5\n",
    "print(\" val: \", y.val,\"\\n der: \", y.der)"
   ]
  },
  {
   "cell_type": "code",
   "execution_count": 5,
   "metadata": {},
   "outputs": [
    {
     "name": "stdout",
     "output_type": "stream",
     "text": [
      " val:  11 \n",
      " der:  -1\n"
     ]
    }
   ],
   "source": [
    "w = ad.AD_Object(2)\n",
    "z = -w**3 + 2*w**2 + 3*w + 5\n",
    "print(\" val: \", z.val,\"\\n der: \", z.der)"
   ]
  },
  {
   "cell_type": "markdown",
   "metadata": {},
   "source": [
    "# 5. Software Organization\n",
    "The package has the following directory structure:\n",
    "- README.md\n",
    "- LICENSE.md\n",
    "- setup.py\n",
    "- requirements.txt\n",
    "- test/ (using CodeCov and TravisCI)\n",
    "    - \\__init\\__.py\n",
    "    - test_AutoDiff.py\n",
    "- docs\n",
    "    - milestone1.md\n",
    "    - milestone2.ipynb\n",
    "    - sample_trace_graph.png\n",
    "- AutoDiff/\n",
    "    - \\__init\\__.py\n",
    "    - AutoDiff_Class.py\n",
    "\n",
    "The package uses standard .py standalone files and setup.py for package installation; it will be also distributed through conda."
   ]
  },
  {
   "cell_type": "markdown",
   "metadata": {},
   "source": [
    "# 6. Implementation\n",
    "We will implement an Automatic Differentiation Class (*Autodiff*) that stores and tracks the value of the given function and its gradient. Class attributes will be:\n",
    "1. variable_values: initial variable values evaluation ot the function and gradient.\n",
    "2. function_value: the function value at that variable_values. \n",
    "3. derivative_values: the function gradient, derivatives wrt to each declared variable at variable_values.\n",
    "\n",
    "The *Autodiff* class will implement all relevant dunder methods(\\__repr\\__, \\__add\\__, \\__mul\\__, etc.). In addition, we will implement a “summing_everything_up” function that takes as an input the function and the values at which we want to compute the gradient. This function will create the neural network of elementary operations for the input function and then compute the grad of the composition of those elementary operations that constitute the function, using the chain rule.\n",
    "\n",
    "For the elementary functions, we will implement all relevent functions from the *math* module of the Python Standard Library, such as (exp, sin, cos, sin, etc.). The functions will be able to handle two types of input: AD objects and numbers. For the first input type , the elem_function will return the function evaluation and derivative; for the second type, it will behave as a math.function and just return the evaluation.\n",
    "\n",
    "Finally, the package will be designed to have minimal dependencies; we envision only the *numpy* and *math* packages will be needed."
   ]
  },
  {
   "cell_type": "code",
   "execution_count": null,
   "metadata": {},
   "outputs": [],
   "source": []
  }
 ],
 "metadata": {
  "anaconda-cloud": {},
  "kernelspec": {
   "display_name": "Python 3",
   "language": "python",
   "name": "python3"
  },
  "language_info": {
   "codemirror_mode": {
    "name": "ipython",
    "version": 3
   },
   "file_extension": ".py",
   "mimetype": "text/x-python",
   "name": "python",
   "nbconvert_exporter": "python",
   "pygments_lexer": "ipython3",
   "version": "3.6.7"
  }
 },
 "nbformat": 4,
 "nbformat_minor": 2
}
