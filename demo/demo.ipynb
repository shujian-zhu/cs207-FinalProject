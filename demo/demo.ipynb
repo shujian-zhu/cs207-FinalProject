{
 "cells": [
  {
   "cell_type": "markdown",
   "metadata": {},
   "source": [
    "# Demo\n",
    "Group 24: Jessica A Wijaya, Shujian Zhu, Malik Wagih, William Palmer"
   ]
  },
  {
   "cell_type": "markdown",
   "metadata": {},
   "source": [
    "# 3. Installation\n",
    "Th package uses a setup.py file for a simple installation, you need to to run the following command in the package main folder:\n",
    "\n",
    "```\n",
    "pip install .\n",
    "```"
   ]
  },
  {
   "cell_type": "markdown",
   "metadata": {},
   "source": [
    "# 4. How to Use AutoDiff \n",
    "In this section, we demo the the AutoDiff package and its capabilities:"
   ]
  },
  {
   "cell_type": "code",
   "execution_count": 1,
   "metadata": {},
   "outputs": [],
   "source": [
    "import AutoDiff as ad\n",
    "import numpy as np"
   ]
  },
  {
   "cell_type": "markdown",
   "metadata": {},
   "source": [
    "The AutoDiff package can be used in two different ways:"
   ]
  },
  {
   "cell_type": "markdown",
   "metadata": {},
   "source": [
    "### 4.1. Create an AD_Object()\n",
    "Alternatively, you can delcare an AD_Object(value, label) and use it as a variable; the AD object will store the value and derivative with each subsequent elementary operation.  "
   ]
  },
  {
   "cell_type": "markdown",
   "metadata": {},
   "source": [
    "#### 4.1.1 Single Variables"
   ]
  },
  {
   "cell_type": "code",
   "execution_count": 2,
   "metadata": {},
   "outputs": [
    {
     "name": "stdout",
     "output_type": "stream",
     "text": [
      "val:  11 \n",
      "der:  {'x': -1}\n",
      "AD Object: Value = 11.000, Derivative: d(x)= -1.000 ; \n",
      "-1\n"
     ]
    }
   ],
   "source": [
    "x = ad.AD_Object(2, 'x')\n",
    "y = -x**3 + 2*x**2 + 3*x + 5\n",
    "print(\"val: \", y.val,\"\\nder: \", y.der)\n",
    "print(y)\n",
    "print(y.derivative('x'))"
   ]
  },
  {
   "cell_type": "code",
   "execution_count": 3,
   "metadata": {},
   "outputs": [
    {
     "name": "stdout",
     "output_type": "stream",
     "text": [
      "val:  -4.0 \n",
      "der:  {'x': -2.0}\n",
      "AD Object: Value = -4.000, Derivative: d(x)= -2.000 ; \n",
      "-2.0\n"
     ]
    }
   ],
   "source": [
    "x = ad.AD_Object(2, 'x')\n",
    "y = (-2* x**2) /x\n",
    "print(\"val: \", y.val,\"\\nder: \", y.der)\n",
    "print(y)\n",
    "print(y.derivative('x'))"
   ]
  },
  {
   "cell_type": "code",
   "execution_count": 4,
   "metadata": {},
   "outputs": [
    {
     "name": "stdout",
     "output_type": "stream",
     "text": [
      "val:  11 \n",
      "der:  {'w': -1}\n",
      "AD Object: Value = 11.000, Derivative: d(w)= -1.000 ; \n",
      "-1\n"
     ]
    }
   ],
   "source": [
    "w = ad.AD_Object(2, 'w')\n",
    "z = -w**3 + 2*w**2 + 3*w + 5\n",
    "print(\"val: \", z.val,\"\\nder: \", z.der)\n",
    "print(z)\n",
    "print(z.derivative('w'))"
   ]
  },
  {
   "cell_type": "code",
   "execution_count": 5,
   "metadata": {},
   "outputs": [
    {
     "name": "stdout",
     "output_type": "stream",
     "text": [
      "AD Object: Value = 1.000, Derivative: d(x)= -0.000 ; \n",
      "-0.0\n"
     ]
    }
   ],
   "source": [
    "## Elementary function example  \n",
    "x = ad.AD_Object(0, 'x')\n",
    "y = ad.cos(x)\n",
    "print(y)\n",
    "print(y.derivative('x'))"
   ]
  },
  {
   "cell_type": "markdown",
   "metadata": {},
   "source": [
    "#### 4.1.2 Multiple Variables"
   ]
  },
  {
   "cell_type": "code",
   "execution_count": 6,
   "metadata": {},
   "outputs": [
    {
     "name": "stdout",
     "output_type": "stream",
     "text": [
      "val:  11 \n",
      "der:  {'x': 8, 'y': 1}\n",
      "f'(x) =  8\n",
      "AD Object: Value = 11.000, Derivative: d(x)= 8.000 ; d(y)= 1.000 ; \n",
      "8\n",
      "1\n"
     ]
    }
   ],
   "source": [
    "x = ad.AD_Object(2, 'x')\n",
    "y = ad.AD_Object(3, 'y')\n",
    "\n",
    "f = 2*x**2 + y\n",
    "\n",
    "print(\"val: \", f.val,\"\\nder: \", f.der)\n",
    "print(\"f'(x) = \", f.der['x'])\n",
    "print(f)\n",
    "print(f.derivative('x'))\n",
    "print(f.derivative('y'))"
   ]
  },
  {
   "cell_type": "code",
   "execution_count": 7,
   "metadata": {
    "scrolled": true
   },
   "outputs": [
    {
     "name": "stdout",
     "output_type": "stream",
     "text": [
      "val:  26 \n",
      "der:  {'x': 8, 'y': 12}\n",
      "AD Object: Value = 26.000, Derivative: d(x)= 8.000 ; d(y)= 12.000 ; \n",
      "8\n"
     ]
    }
   ],
   "source": [
    "x = ad.AD_Object(2, 'x')\n",
    "y = ad.AD_Object(3, 'y')\n",
    "\n",
    "f = 2*x**2 + 2*y**2\n",
    "\n",
    "print(\"val: \", f.val,\"\\nder: \", f.der)\n",
    "print(f)\n",
    "print(f.derivative('x'))"
   ]
  },
  {
   "cell_type": "code",
   "execution_count": 8,
   "metadata": {},
   "outputs": [
    {
     "name": "stdout",
     "output_type": "stream",
     "text": [
      "val:  24 \n",
      "der:  {'x': 24, 'y': 8}\n",
      "AD Object: Value = 24.000, Derivative: d(x)= 24.000 ; d(y)= 8.000 ; \n",
      "24\n"
     ]
    }
   ],
   "source": [
    "x = ad.AD_Object(2, 'x')\n",
    "y = ad.AD_Object(3, 'y')\n",
    "\n",
    "f = 2*(x**2)*y \n",
    "\n",
    "print(\"val: \", f.val,\"\\nder: \", f.der)\n",
    "print(f)\n",
    "print(f.derivative('x'))"
   ]
  },
  {
   "cell_type": "code",
   "execution_count": 9,
   "metadata": {},
   "outputs": [
    {
     "name": "stdout",
     "output_type": "stream",
     "text": [
      "val:  2.0 \n",
      "der:  {'x': 2.0, 'y': -0.5}\n",
      "AD Object: Value = 2.000, Derivative: d(x)= 2.000 ; d(y)= -0.500 ; \n",
      "2.0\n"
     ]
    }
   ],
   "source": [
    "x = ad.AD_Object(2, 'x')\n",
    "y = ad.AD_Object(4, 'y')\n",
    "\n",
    "f = (2*(x**2))/y \n",
    "\n",
    "print(\"val: \", f.val,\"\\nder: \", f.der)\n",
    "print(f)\n",
    "print(f.derivative('x'))"
   ]
  },
  {
   "cell_type": "markdown",
   "metadata": {},
   "source": [
    "### 4.2 Using string function as input"
   ]
  },
  {
   "cell_type": "markdown",
   "metadata": {},
   "source": [
    "#### 4.2.1 Single Variables"
   ]
  },
  {
   "cell_type": "code",
   "execution_count": 10,
   "metadata": {},
   "outputs": [
    {
     "name": "stdout",
     "output_type": "stream",
     "text": [
      "val:  11 \n",
      "der:  {'x': -1}\n",
      "AD Object: Value = 11.000, Derivative: d(x)= -1.000 ; \n",
      "-1\n"
     ]
    }
   ],
   "source": [
    "y = ad.AD_eval(\"-x**3 + 2*x**2 + 3*x + 5\", \"x\", 2)\n",
    "print(\"val: \", y.val,\"\\nder: \", y.der)\n",
    "print(y)\n",
    "print(y.derivative('x'))"
   ]
  },
  {
   "cell_type": "markdown",
   "metadata": {},
   "source": [
    "#### 4.2.2 Multiple Variables"
   ]
  },
  {
   "cell_type": "code",
   "execution_count": 11,
   "metadata": {},
   "outputs": [
    {
     "name": "stdout",
     "output_type": "stream",
     "text": [
      "val:  26 \n",
      "der:  {'x': 8, 'y': 12}\n",
      "AD Object: Value = 26.000, Derivative: d(x)= 8.000 ; d(y)= 12.000 ; \n",
      "8\n"
     ]
    }
   ],
   "source": [
    "f = ad.AD_eval(\"2*x**2 + 2*y**2\", ['x', 'y'], [2, 3])\n",
    "\n",
    "print(\"val: \", f.val,\"\\nder: \", f.der)\n",
    "print(f)\n",
    "print(f.derivative('x'))"
   ]
  },
  {
   "cell_type": "markdown",
   "metadata": {},
   "source": [
    "## 4.3. Vectorized input"
   ]
  },
  {
   "cell_type": "markdown",
   "metadata": {},
   "source": [
    "Vector manipulation is easy to handle using AD_Vector to intitalize a vector of AD_Objects that can be used as numpy arrays.  "
   ]
  },
  {
   "cell_type": "code",
   "execution_count": 12,
   "metadata": {},
   "outputs": [
    {
     "name": "stdout",
     "output_type": "stream",
     "text": [
      "[AD Object: Value = 1.000, Derivative: d(x)= 2.000 ;\n",
      " AD Object: Value = 4.000, Derivative: d(x)= 4.000 ;\n",
      " AD Object: Value = 9.000, Derivative: d(x)= 6.000 ;\n",
      " AD Object: Value = 16.000, Derivative: d(x)= 8.000 ;\n",
      " AD Object: Value = 25.000, Derivative: d(x)= 10.000 ;\n",
      " AD Object: Value = 36.000, Derivative: d(x)= 12.000 ;\n",
      " AD Object: Value = 49.000, Derivative: d(x)= 14.000 ;\n",
      " AD Object: Value = 64.000, Derivative: d(x)= 16.000 ;\n",
      " AD Object: Value = 81.000, Derivative: d(x)= 18.000 ; ]\n",
      "[ 1.  4.  9. 16. 25. 36. 49. 64. 81.]\n",
      "[ 2.  4.  6.  8. 10. 12. 14. 16. 18.]\n"
     ]
    }
   ],
   "source": [
    "x = ad.AD_Vector(np.arange(1,10), label='x')\n",
    "\n",
    "z = x**2\n",
    "\n",
    "print(z)\n",
    "\n",
    "print(ad.value(z))\n",
    "print(ad.derivative(z, 'x'))"
   ]
  },
  {
   "cell_type": "code",
   "execution_count": 13,
   "metadata": {},
   "outputs": [
    {
     "name": "stdout",
     "output_type": "stream",
     "text": [
      "[AD Object: Value = 0.841, Derivative: d(x)= 0.540 ;\n",
      " AD Object: Value = 0.909, Derivative: d(x)= -0.416 ;\n",
      " AD Object: Value = 0.141, Derivative: d(x)= -0.990 ;\n",
      " AD Object: Value = -0.757, Derivative: d(x)= -0.654 ;\n",
      " AD Object: Value = -0.959, Derivative: d(x)= 0.284 ;\n",
      " AD Object: Value = -0.279, Derivative: d(x)= 0.960 ;\n",
      " AD Object: Value = 0.657, Derivative: d(x)= 0.754 ;\n",
      " AD Object: Value = 0.989, Derivative: d(x)= -0.146 ;\n",
      " AD Object: Value = 0.412, Derivative: d(x)= -0.911 ; ]\n",
      "[ 0.84147098  0.90929743  0.14112001 -0.7568025  -0.95892427 -0.2794155\n",
      "  0.6569866   0.98935825  0.41211849]\n",
      "[ 0.54030231 -0.41614684 -0.9899925  -0.65364362  0.28366219  0.96017029\n",
      "  0.75390225 -0.14550003 -0.91113026]\n"
     ]
    }
   ],
   "source": [
    "x = ad.AD_Vector(np.arange(1,10), label='x')\n",
    "\n",
    "z = np.sin(x)\n",
    "\n",
    "print(z)\n",
    "\n",
    "print(ad.value(z))\n",
    "print(ad.derivative(z, 'x'))"
   ]
  },
  {
   "cell_type": "code",
   "execution_count": 14,
   "metadata": {},
   "outputs": [
    {
     "name": "stdout",
     "output_type": "stream",
     "text": [
      "[AD Object: Value = 3.000, Derivative: d(x)= 4.000 ; d(y)= 2.000 ;\n",
      " AD Object: Value = 12.000, Derivative: d(x)= 8.000 ; d(y)= 4.000 ;\n",
      " AD Object: Value = 27.000, Derivative: d(x)= 12.000 ; d(y)= 6.000 ;\n",
      " AD Object: Value = 48.000, Derivative: d(x)= 16.000 ; d(y)= 8.000 ;\n",
      " AD Object: Value = 75.000, Derivative: d(x)= 20.000 ; d(y)= 10.000 ;\n",
      " AD Object: Value = 108.000, Derivative: d(x)= 24.000 ; d(y)= 12.000 ;\n",
      " AD Object: Value = 147.000, Derivative: d(x)= 28.000 ; d(y)= 14.000 ;\n",
      " AD Object: Value = 192.000, Derivative: d(x)= 32.000 ; d(y)= 16.000 ;\n",
      " AD Object: Value = 243.000, Derivative: d(x)= 36.000 ; d(y)= 18.000 ; ]\n",
      "[  3.  12.  27.  48.  75. 108. 147. 192. 243.]\n",
      "[ 4.  8. 12. 16. 20. 24. 28. 32. 36.]\n",
      "[ 2.  4.  6.  8. 10. 12. 14. 16. 18.]\n"
     ]
    }
   ],
   "source": [
    "x = ad.AD_Vector(np.arange(1,10), label='x') \n",
    "y = ad.AD_Vector(np.arange(1,10), label='y')\n",
    "z = 2*x**2 + y**2\n",
    "\n",
    "print(z)\n",
    "\n",
    "print(ad.value(z))\n",
    "print(ad.derivative(z, 'x'))\n",
    "print(ad.derivative(z, 'y'))"
   ]
  },
  {
   "cell_type": "code",
   "execution_count": 16,
   "metadata": {},
   "outputs": [
    {
     "name": "stdout",
     "output_type": "stream",
     "text": [
      "AD Object: Value = 0.881, Derivative: d(x)= 0.105 ; \n"
     ]
    }
   ],
   "source": [
    "x = ad.AD_Object(2, 'x')\n",
    "y= ad.sigmoid(x)\n",
    "print(y)"
   ]
  },
  {
   "cell_type": "code",
   "execution_count": null,
   "metadata": {},
   "outputs": [],
   "source": []
  }
 ],
 "metadata": {
  "anaconda-cloud": {},
  "kernelspec": {
   "display_name": "Python 3",
   "language": "python",
   "name": "python3"
  },
  "language_info": {
   "codemirror_mode": {
    "name": "ipython",
    "version": 3
   },
   "file_extension": ".py",
   "mimetype": "text/x-python",
   "name": "python",
   "nbconvert_exporter": "python",
   "pygments_lexer": "ipython3",
   "version": "3.7.5"
  }
 },
 "nbformat": 4,
 "nbformat_minor": 2
}
