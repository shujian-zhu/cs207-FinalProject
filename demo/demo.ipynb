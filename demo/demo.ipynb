{
 "cells": [
  {
   "cell_type": "markdown",
   "metadata": {},
   "source": [
    "# Demo\n",
    "Group 24: Jessica A Wijaya, Shujian Zhu, Malik Wagih, William Palmer"
   ]
  },
  {
   "cell_type": "markdown",
   "metadata": {},
   "source": [
    "# 3. Installation\n",
    "Th package uses a setup.py file for a simple installation, you need to to run the following command in the package main folder:\n",
    "\n",
    "```\n",
    "pip install .\n",
    "```"
   ]
  },
  {
   "cell_type": "markdown",
   "metadata": {},
   "source": [
    "# 4. How to Use AutoDiff \n",
    "In this section, we demo the the AutoDiff package and its capabilities:"
   ]
  },
  {
   "cell_type": "code",
   "execution_count": 1,
   "metadata": {},
   "outputs": [],
   "source": [
    "import AutoDiff as ad"
   ]
  },
  {
   "cell_type": "markdown",
   "metadata": {},
   "source": [
    "The AutoDiff package can be used in two different ways:"
   ]
  },
  {
   "cell_type": "markdown",
   "metadata": {},
   "source": [
    "### 4.2. Create an AD_Object()\n",
    "Alternatively, you can delcare an AD_Object(value, label) and use it as a variable; the AD object will store the value and derivative with each subsequent elementary operation.  "
   ]
  },
  {
   "cell_type": "markdown",
   "metadata": {},
   "source": [
    "#### 4.2.1 Single Variables"
   ]
  },
  {
   "cell_type": "code",
   "execution_count": 2,
   "metadata": {},
   "outputs": [
    {
     "name": "stdout",
     "output_type": "stream",
     "text": [
      "val:  11 \n",
      "der:  {'x': -1}\n",
      "AD Object: Value = 11.000, Derivative: d(x)= -1.000 ; \n"
     ]
    }
   ],
   "source": [
    "x = ad.AD_Object(2, 'x')\n",
    "y = -x**3 + 2*x**2 + 3*x + 5\n",
    "print(\"val: \", y.val,\"\\nder: \", y.der)\n",
    "print(y)"
   ]
  },
  {
   "cell_type": "code",
   "execution_count": 3,
   "metadata": {},
   "outputs": [
    {
     "name": "stdout",
     "output_type": "stream",
     "text": [
      "val:  -4.0 \n",
      "der:  {'x': -2.0}\n",
      "AD Object: Value = -4.000, Derivative: d(x)= -2.000 ; \n"
     ]
    }
   ],
   "source": [
    "x = ad.AD_Object(2, 'x')\n",
    "y = (-2* x**2) /x\n",
    "print(\"val: \", y.val,\"\\nder: \", y.der)\n",
    "print(y)"
   ]
  },
  {
   "cell_type": "code",
   "execution_count": 4,
   "metadata": {},
   "outputs": [
    {
     "name": "stdout",
     "output_type": "stream",
     "text": [
      "val:  11 \n",
      "der:  {'w': -1}\n",
      "AD Object: Value = 11.000, Derivative: d(w)= -1.000 ; \n"
     ]
    }
   ],
   "source": [
    "w = ad.AD_Object(2, 'w')\n",
    "z = -w**3 + 2*w**2 + 3*w + 5\n",
    "print(\"val: \", z.val,\"\\nder: \", z.der)\n",
    "print(z)"
   ]
  },
  {
   "cell_type": "code",
   "execution_count": 5,
   "metadata": {},
   "outputs": [
    {
     "name": "stdout",
     "output_type": "stream",
     "text": [
      "AD Object: Value = 1.000, Derivative: d(x)= -0.000 ; \n"
     ]
    }
   ],
   "source": [
    "## Elementary function example  \n",
    "x = ad.AD_Object(0, 'x')\n",
    "y = ad.cos(x)\n",
    "print(y)"
   ]
  },
  {
   "cell_type": "markdown",
   "metadata": {},
   "source": [
    "#### 4.2.2 Multiple Variables"
   ]
  },
  {
   "cell_type": "code",
   "execution_count": 6,
   "metadata": {},
   "outputs": [
    {
     "name": "stdout",
     "output_type": "stream",
     "text": [
      "val:  11 \n",
      "der:  {'x': 8, 'y': 1}\n",
      "f'(x) =  8\n",
      "AD Object: Value = 11.000, Derivative: d(x)= 8.000 ; d(y)= 1.000 ; \n"
     ]
    }
   ],
   "source": [
    "x = ad.AD_Object(2, 'x')\n",
    "y = ad.AD_Object(3, 'y')\n",
    "\n",
    "f = 2*x**2 + y\n",
    "\n",
    "print(\"val: \", f.val,\"\\nder: \", f.der)\n",
    "print(\"f'(x) = \", f.der['x'])\n",
    "print(f)"
   ]
  },
  {
   "cell_type": "code",
   "execution_count": 7,
   "metadata": {
    "scrolled": true
   },
   "outputs": [
    {
     "name": "stdout",
     "output_type": "stream",
     "text": [
      "val:  26 \n",
      "der:  {'x': 8, 'y': 12}\n",
      "AD Object: Value = 26.000, Derivative: d(x)= 8.000 ; d(y)= 12.000 ; \n"
     ]
    }
   ],
   "source": [
    "x = ad.AD_Object(2, 'x')\n",
    "y = ad.AD_Object(3, 'y')\n",
    "\n",
    "f = 2*x**2 + 2*y**2\n",
    "\n",
    "print(\"val: \", f.val,\"\\nder: \", f.der)\n",
    "print(f)"
   ]
  },
  {
   "cell_type": "code",
   "execution_count": 8,
   "metadata": {},
   "outputs": [
    {
     "name": "stdout",
     "output_type": "stream",
     "text": [
      "val:  24 \n",
      "der:  {'x': 24, 'y': 8}\n",
      "AD Object: Value = 24.000, Derivative: d(x)= 24.000 ; d(y)= 8.000 ; \n"
     ]
    }
   ],
   "source": [
    "x = ad.AD_Object(2, 'x')\n",
    "y = ad.AD_Object(3, 'y')\n",
    "\n",
    "f = 2*(x**2)*y \n",
    "\n",
    "print(\"val: \", f.val,\"\\nder: \", f.der)\n",
    "print(f)"
   ]
  },
  {
   "cell_type": "code",
   "execution_count": 10,
   "metadata": {},
   "outputs": [
    {
     "name": "stdout",
     "output_type": "stream",
     "text": [
      "val:  2.0 \n",
      "der:  {'x': 2.0, 'y': -0.5}\n",
      "AD Object: Value = 2.000, Derivative: d(x)= 2.000 ; d(y)= -0.500 ; \n"
     ]
    }
   ],
   "source": [
    "x = ad.AD_Object(2, 'x')\n",
    "y = ad.AD_Object(4, 'y')\n",
    "\n",
    "f = (2*(x**2))/y \n",
    "\n",
    "print(\"val: \", f.val,\"\\nder: \", f.der)\n",
    "print(f)"
   ]
  },
  {
   "cell_type": "code",
   "execution_count": null,
   "metadata": {},
   "outputs": [],
   "source": []
  },
  {
   "cell_type": "code",
   "execution_count": null,
   "metadata": {},
   "outputs": [],
   "source": []
  }
 ],
 "metadata": {
  "anaconda-cloud": {},
  "kernelspec": {
   "display_name": "Python 3",
   "language": "python",
   "name": "python3"
  },
  "language_info": {
   "codemirror_mode": {
    "name": "ipython",
    "version": 3
   },
   "file_extension": ".py",
   "mimetype": "text/x-python",
   "name": "python",
   "nbconvert_exporter": "python",
   "pygments_lexer": "ipython3",
   "version": "3.6.7"
  }
 },
 "nbformat": 4,
 "nbformat_minor": 2
}
