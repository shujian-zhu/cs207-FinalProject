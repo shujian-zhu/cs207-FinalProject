{
 "cells": [
  {
   "cell_type": "markdown",
   "metadata": {},
   "source": [
    "# How to use the Root Finding Library\n"
   ]
  },
  {
   "cell_type": "code",
   "execution_count": 5,
   "metadata": {},
   "outputs": [],
   "source": [
    "import autodiff as ad\n",
    "import numpy as np\n",
    "import root_finding as rt"
   ]
  },
  {
   "cell_type": "markdown",
   "metadata": {},
   "source": [
    "1. Use the Newton-Raphson Method"
   ]
  },
  {
   "cell_type": "markdown",
   "metadata": {},
   "source": [
    "With One Variable/One dimension"
   ]
  },
  {
   "cell_type": "code",
   "execution_count": 19,
   "metadata": {},
   "outputs": [
    {
     "name": "stdout",
     "output_type": "stream",
     "text": [
      "The root is  7.450580596923828e-07          5.551115123125783e-13\n"
     ]
    }
   ],
   "source": [
    "func_lambda = lambda x: x**2\n",
    "init_value=100\n",
    "\n",
    "value=rt.newton_method(func_lambda, init_value)\n",
    "\n",
    "print(\"The root is \",value, \"        \",func_lambda(value))"
   ]
  },
  {
   "cell_type": "markdown",
   "metadata": {},
   "source": [
    "With n variables, n dimensions"
   ]
  },
  {
   "cell_type": "code",
   "execution_count": 20,
   "metadata": {},
   "outputs": [
    {
     "name": "stdout",
     "output_type": "stream",
     "text": [
      "The root is  [-3.02593421e-17  2.00000000e+01]          [-1.2103736856794429e-14, 0.0]\n"
     ]
    }
   ],
   "source": [
    "func_lambda = lambda x,y: [x*y**2,x+y-20]\n",
    "init_value=np.array([1,3])\n",
    "\n",
    "value=rt.newton_method(func_lambda, init_value)\n",
    "\n",
    "print(\"The root is \",value, \"        \",func_lambda(*value))"
   ]
  },
  {
   "cell_type": "markdown",
   "metadata": {},
   "source": [
    "With n variables, k dimensions (k<n,n>k)"
   ]
  },
  {
   "cell_type": "code",
   "execution_count": 26,
   "metadata": {},
   "outputs": [
    {
     "name": "stdout",
     "output_type": "stream",
     "text": [
      "The root is  [-8.49217221e-22  2.00000000e+01]          [-3.3968688842372927e-19, 0.0, -3.4655031449732766e-22]\n",
      "The root is  [-3.02593322e-17  2.00000000e+01  4.00000000e+00]          [-1.2103732886327488e-14, 0.0]\n"
     ]
    }
   ],
   "source": [
    "from autodiff import cos\n",
    "func_lambda = lambda x,y: [x*y**2,x+y-20, x*cos(y)]\n",
    "init_value=np.array([1,3])\n",
    "\n",
    "value=rt.newton_method(func_lambda, init_value)\n",
    "\n",
    "print(\"The root is \",value, \"        \",func_lambda(*value))\n",
    "\n",
    "func_lambda = lambda x,y,z: [x*y**2,x+y-20]\n",
    "init_value=np.array([1,3,4])\n",
    "\n",
    "value=rt.newton_method(func_lambda, init_value)\n",
    "\n",
    "print(\"The root is \",value, \"        \",func_lambda(*value))"
   ]
  },
  {
   "cell_type": "code",
   "execution_count": null,
   "metadata": {},
   "outputs": [],
   "source": []
  }
 ],
 "metadata": {
  "kernelspec": {
   "display_name": "Python 3",
   "language": "python",
   "name": "python3"
  },
  "language_info": {
   "codemirror_mode": {
    "name": "ipython",
    "version": 3
   },
   "file_extension": ".py",
   "mimetype": "text/x-python",
   "name": "python",
   "nbconvert_exporter": "python",
   "pygments_lexer": "ipython3",
   "version": "3.7.3"
  }
 },
 "nbformat": 4,
 "nbformat_minor": 2
}
